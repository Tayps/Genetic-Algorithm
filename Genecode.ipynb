{
 "cells": [
  {
   "cell_type": "code",
   "execution_count": 1,
   "id": "55633cc7-4100-4102-8cba-a3b9f69604d2",
   "metadata": {},
   "outputs": [],
   "source": [
    "import random\n",
    "import numpy "
   ]
  },
  {
   "cell_type": "code",
   "execution_count": null,
   "id": "925a2e53-d0f8-4b94-a07f-2a9378bb7862",
   "metadata": {},
   "outputs": [],
   "source": [
    "class player:\n",
    "    def __init__():\n",
    "        "
   ]
  }
 ],
 "metadata": {
  "kernelspec": {
   "display_name": "venv",
   "language": "python",
   "name": "venv"
  },
  "language_info": {
   "codemirror_mode": {
    "name": "ipython",
    "version": 3
   },
   "file_extension": ".py",
   "mimetype": "text/x-python",
   "name": "python",
   "nbconvert_exporter": "python",
   "pygments_lexer": "ipython3",
   "version": "3.10.12"
  }
 },
 "nbformat": 4,
 "nbformat_minor": 5
}
